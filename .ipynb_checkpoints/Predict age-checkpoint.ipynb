{
 "cells": [
  {
   "cell_type": "code",
   "execution_count": null,
   "id": "cf83d318",
   "metadata": {},
   "outputs": [],
   "source": [
    "import pandas as pd\n",
    "import numpy as np\n",
    "import matplotlib.pyplot as pplt\n",
    "from dateutil import parser\n",
    "import seaborn as sns\n",
    "from sklearn.decomposition import PCA\n",
    "from scipy import interpolate\n",
    "import pickle\n",
    "import os\n",
    "import itertools\n",
    "from joblib import Parallel, delayed\n",
    "import random\n",
    "\n",
    "pd.set_option('display.float_format', lambda x: '%.5f' % x)"
   ]
  },
  {
   "cell_type": "code",
   "execution_count": null,
   "id": "9e9b3268",
   "metadata": {
    "scrolled": true
   },
   "outputs": [],
   "source": [
    "parse_dates = ['registration', 'last_login']\n",
    "df_raw = pd.read_csv(\"profiles.csv\", parse_dates=parse_dates)\n",
    "df_raw.head()"
   ]
  },
  {
   "cell_type": "code",
   "execution_count": null,
   "id": "bbd9fb57",
   "metadata": {},
   "outputs": [],
   "source": [
    "relation = pd.read_csv(\"relationships.csv\")\n",
    "relation.head()"
   ]
  },
  {
   "cell_type": "code",
   "execution_count": 5,
   "id": "09a8891c",
   "metadata": {},
   "outputs": [
    {
     "data": {
      "text/html": [
       "<div>\n",
       "<style scoped>\n",
       "    .dataframe tbody tr th:only-of-type {\n",
       "        vertical-align: middle;\n",
       "    }\n",
       "\n",
       "    .dataframe tbody tr th {\n",
       "        vertical-align: top;\n",
       "    }\n",
       "\n",
       "    .dataframe thead th {\n",
       "        text-align: right;\n",
       "    }\n",
       "</style>\n",
       "<table border=\"1\" class=\"dataframe\">\n",
       "  <thead>\n",
       "    <tr style=\"text-align: right;\">\n",
       "      <th></th>\n",
       "      <th>id</th>\n",
       "    </tr>\n",
       "  </thead>\n",
       "  <tbody>\n",
       "    <tr>\n",
       "      <th>27754</th>\n",
       "      <td>123901073</td>\n",
       "    </tr>\n",
       "    <tr>\n",
       "      <th>27755</th>\n",
       "      <td>352601406</td>\n",
       "    </tr>\n",
       "    <tr>\n",
       "      <th>27756</th>\n",
       "      <td>120883808</td>\n",
       "    </tr>\n",
       "    <tr>\n",
       "      <th>27757</th>\n",
       "      <td>435541900</td>\n",
       "    </tr>\n",
       "    <tr>\n",
       "      <th>27758</th>\n",
       "      <td>530536337</td>\n",
       "    </tr>\n",
       "  </tbody>\n",
       "</table>\n",
       "</div>"
      ],
      "text/plain": [
       "              id\n",
       "27754  123901073\n",
       "27755  352601406\n",
       "27756  120883808\n",
       "27757  435541900\n",
       "27758  530536337"
      ]
     },
     "execution_count": 5,
     "metadata": {},
     "output_type": "execute_result"
    }
   ],
   "source": [
    "test_users = pd.read_csv(\"test_users.txt\", header=None, names=[\"id\"])\n",
    "test_users.tail()"
   ]
  },
  {
   "cell_type": "code",
   "execution_count": 6,
   "id": "f02a27a6",
   "metadata": {
    "scrolled": true
   },
   "outputs": [
    {
     "data": {
      "text/html": [
       "<div>\n",
       "<style scoped>\n",
       "    .dataframe tbody tr th:only-of-type {\n",
       "        vertical-align: middle;\n",
       "    }\n",
       "\n",
       "    .dataframe tbody tr th {\n",
       "        vertical-align: top;\n",
       "    }\n",
       "\n",
       "    .dataframe thead th {\n",
       "        text-align: right;\n",
       "    }\n",
       "</style>\n",
       "<table border=\"1\" class=\"dataframe\">\n",
       "  <thead>\n",
       "    <tr style=\"text-align: right;\">\n",
       "      <th></th>\n",
       "      <th>user_id</th>\n",
       "      <th>gender</th>\n",
       "      <th>AGE</th>\n",
       "      <th>height</th>\n",
       "      <th>weight</th>\n",
       "    </tr>\n",
       "  </thead>\n",
       "  <tbody>\n",
       "    <tr>\n",
       "      <th>count</th>\n",
       "      <td>1632803.00000</td>\n",
       "      <td>1632640.00000</td>\n",
       "      <td>1604881.00000</td>\n",
       "      <td>729751.00000</td>\n",
       "      <td>620836.00000</td>\n",
       "    </tr>\n",
       "    <tr>\n",
       "      <th>mean</th>\n",
       "      <td>499997105.69006</td>\n",
       "      <td>0.49266</td>\n",
       "      <td>16.98046</td>\n",
       "      <td>808067266117481.62500</td>\n",
       "      <td>558154134404521408.00000</td>\n",
       "    </tr>\n",
       "    <tr>\n",
       "      <th>std</th>\n",
       "      <td>288699233.54438</td>\n",
       "      <td>0.49995</td>\n",
       "      <td>13.96685</td>\n",
       "      <td>85770960861341856.00000</td>\n",
       "      <td>438896788516499685376.00000</td>\n",
       "    </tr>\n",
       "    <tr>\n",
       "      <th>min</th>\n",
       "      <td>143.00000</td>\n",
       "      <td>0.00000</td>\n",
       "      <td>0.00000</td>\n",
       "      <td>0.00000</td>\n",
       "      <td>0.00000</td>\n",
       "    </tr>\n",
       "    <tr>\n",
       "      <th>25%</th>\n",
       "      <td>249802760.00000</td>\n",
       "      <td>0.00000</td>\n",
       "      <td>0.00000</td>\n",
       "      <td>165.00000</td>\n",
       "      <td>52.00000</td>\n",
       "    </tr>\n",
       "    <tr>\n",
       "      <th>50%</th>\n",
       "      <td>499910023.00000</td>\n",
       "      <td>0.00000</td>\n",
       "      <td>19.00000</td>\n",
       "      <td>172.00000</td>\n",
       "      <td>63.00000</td>\n",
       "    </tr>\n",
       "    <tr>\n",
       "      <th>75%</th>\n",
       "      <td>749867091.00000</td>\n",
       "      <td>1.00000</td>\n",
       "      <td>26.00000</td>\n",
       "      <td>180.00000</td>\n",
       "      <td>77.00000</td>\n",
       "    </tr>\n",
       "    <tr>\n",
       "      <th>max</th>\n",
       "      <td>999999937.00000</td>\n",
       "      <td>1.00000</td>\n",
       "      <td>112.00000</td>\n",
       "      <td>9223372036854775808.00000</td>\n",
       "      <td>345820583218456029036544.00000</td>\n",
       "    </tr>\n",
       "  </tbody>\n",
       "</table>\n",
       "</div>"
      ],
      "text/plain": [
       "              user_id        gender           AGE                    height  \\\n",
       "count   1632803.00000 1632640.00000 1604881.00000              729751.00000   \n",
       "mean  499997105.69006       0.49266      16.98046     808067266117481.62500   \n",
       "std   288699233.54438       0.49995      13.96685   85770960861341856.00000   \n",
       "min         143.00000       0.00000       0.00000                   0.00000   \n",
       "25%   249802760.00000       0.00000       0.00000                 165.00000   \n",
       "50%   499910023.00000       0.00000      19.00000                 172.00000   \n",
       "75%   749867091.00000       1.00000      26.00000                 180.00000   \n",
       "max   999999937.00000       1.00000     112.00000 9223372036854775808.00000   \n",
       "\n",
       "                              weight  \n",
       "count                   620836.00000  \n",
       "mean        558154134404521408.00000  \n",
       "std      438896788516499685376.00000  \n",
       "min                          0.00000  \n",
       "25%                         52.00000  \n",
       "50%                         63.00000  \n",
       "75%                         77.00000  \n",
       "max   345820583218456029036544.00000  "
      ]
     },
     "execution_count": 6,
     "metadata": {},
     "output_type": "execute_result"
    }
   ],
   "source": [
    "df_raw.describe()"
   ]
  },
  {
   "cell_type": "code",
   "execution_count": 7,
   "id": "ce3f0bc6",
   "metadata": {},
   "outputs": [],
   "source": [
    "df = df_raw.copy()"
   ]
  },
  {
   "cell_type": "code",
   "execution_count": 8,
   "id": "7c91b198",
   "metadata": {},
   "outputs": [
    {
     "data": {
      "image/png": "[encoded data removed]",
      "text/plain": [
       "<Figure size 432x288 with 1 Axes>"
      ]
     },
     "metadata": {
      "needs_background": "light"
     },
     "output_type": "display_data"
    }
   ],
   "source": [
    "df.boxplot(\"AGE\", showfliers=False)\n",
    "pplt.show()"
   ]
  },
  {
   "cell_type": "markdown",
   "id": "fcfbbbee",
   "metadata": {},
   "source": [
    "## Prepare data"
   ]
  },
  {
   "cell_type": "markdown",
   "id": "1d1e4040",
   "metadata": {},
   "source": [
    "##### We won't use infrormation about date of registration or last login? so we can remove it"
   ]
  },
  {
   "cell_type": "code",
   "execution_count": 9,
   "id": "735d78d2",
   "metadata": {},
   "outputs": [],
   "source": [
    "df.drop(columns=['last_login', 'registration'], inplace=True)"
   ]
  },
  {
   "cell_type": "markdown",
   "id": "d16586a1",
   "metadata": {},
   "source": [
    "##### A person can weight somewhere from 2kg to 700kg and have height from 40cm to 270cm.\n",
    " Others have obviously lied:"
   ]
  },
  {
   "cell_type": "code",
   "execution_count": 10,
   "id": "83add602",
   "metadata": {
    "scrolled": true
   },
   "outputs": [
    {
     "data": {
      "text/plain": [
       "2863"
      ]
     },
     "execution_count": 10,
     "metadata": {},
     "output_type": "execute_result"
    }
   ],
   "source": [
    "len(df[(df.weight < 2) | (df.weight > 700)])"
   ]
  },
  {
   "cell_type": "code",
   "execution_count": 11,
   "id": "cf6f3faa",
   "metadata": {},
   "outputs": [
    {
     "data": {
      "text/plain": [
       "8001"
      ]
     },
     "execution_count": 11,
     "metadata": {},
     "output_type": "execute_result"
    }
   ],
   "source": [
    "len(df[(df.height < 40) | (df.height > 270)])"
   ]
  },
  {
   "cell_type": "markdown",
   "id": "5d396e54",
   "metadata": {},
   "source": [
    "##### We will remove these data about these people"
   ]
  },
  {
   "cell_type": "code",
   "execution_count": 12,
   "id": "aa4b1986",
   "metadata": {
    "scrolled": true
   },
   "outputs": [],
   "source": [
    "df[\"weight\"] = df[\"weight\"].map(lambda x: np.nan if x < 2 or x > 700 else x)\n",
    "df[\"height\"] = df[\"height\"].map(lambda x: np.nan if x < 40 or x > 270 else x)\n",
    "df[\"AGE\"] = df[\"AGE\"].map(lambda x: np.nan if x == 0 else x)\n",
    "df[\"public\"] = df[\"public\"].map(lambda x: 1 if x else 0)"
   ]
  },
  {
   "cell_type": "code",
   "execution_count": 13,
   "id": "35b1c6af",
   "metadata": {
    "scrolled": true
   },
   "outputs": [
    {
     "data": {
      "image/png": "[encoded data removed]",
      "text/plain": [
       "<Figure size 432x288 with 1 Axes>"
      ]
     },
     "metadata": {
      "needs_background": "light"
     },
     "output_type": "display_data"
    }
   ],
   "source": [
    "df.boxplot(\"weight\", by=\"gender\", showfliers=False)\n",
    "pplt.show()"
   ]
  },
  {
   "cell_type": "code",
   "execution_count": 14,
   "id": "4e427c87",
   "metadata": {},
   "outputs": [
    {
     "data": {
      "image/png": "[encoded data removed]",
      "text/plain": [
       "<Figure size 432x288 with 1 Axes>"
      ]
     },
     "metadata": {
      "needs_background": "light"
     },
     "output_type": "display_data"
    }
   ],
   "source": [
    "df.boxplot(\"height\", by=\"gender\", showfliers=False)\n",
    "pplt.show()"
   ]
  },
  {
   "cell_type": "code",
   "execution_count": 15,
   "id": "c6483de5",
   "metadata": {},
   "outputs": [
    {
     "data": {
      "image/png": "[encoded data removed]",
      "text/plain": [
       "<Figure size 720x432 with 2 Axes>"
      ]
     },
     "metadata": {
      "needs_background": "light"
     },
     "output_type": "display_data"
    }
   ],
   "source": [
    "corr = df.corr()\n",
    "pplt.figure(figsize=(10, 6))\n",
    "sns.heatmap(corr, cmap = 'Wistia', annot= True);"
   ]
  },
  {
   "cell_type": "markdown",
   "id": "95aa8bcd",
   "metadata": {},
   "source": [
    "#### Let's get train set (users whose age is  known). As we can see from the plot and plots above height, weight and gender are correlated. "
   ]
  },
  {
   "cell_type": "code",
   "execution_count": 16,
   "id": "311708d9",
   "metadata": {},
   "outputs": [],
   "source": [
    "train_df = df.drop(df[df['AGE'].isna()].index)"
   ]
  },
  {
   "cell_type": "code",
   "execution_count": 17,
   "id": "66eaae82",
   "metadata": {},
   "outputs": [
    {
     "data": {
      "image/png": "[encoded data removed]",
      "text/plain": [
       "<Figure size 432x288 with 1 Axes>"
      ]
     },
     "metadata": {
      "needs_background": "light"
     },
     "output_type": "display_data"
    },
    {
     "name": "stdout",
     "output_type": "stream",
     "text": [
      "Age at which height is stabilizes: 25\n"
     ]
    }
   ],
   "source": [
    "def plot_field_and_deviation(field):\n",
    "    plot_df = train_df.groupby([\"AGE\"])[field].mean()\n",
    "\n",
    "    age = plot_df.index\n",
    "    field_value = list(plot_df)\n",
    "\n",
    "    # Let's calculate derivative from field value\n",
    "    tang = np.gradient(field_value, age)\n",
    "\n",
    "    pplt.plot(age, field_value, label=field)\n",
    "    pplt.plot(age, tang, label=\"derivative\")\n",
    "    \n",
    "    # Plot age axis\n",
    "    pplt.plot([age[0], age[-1]], [0, 0], linestyle='-', label=\"age axis\")\n",
    "    \n",
    "    # Cut off strange values in the begining which has negative derivative\n",
    "    ind_dev_posit = [i for i in range(len(tang)) if tang[i] > 2][0]\n",
    "    pplt.plot([ind_dev_posit, ind_dev_posit], [min(tang), max(field_value)], linestyle='-', label=f'x = {ind_dev_posit}')\n",
    "\n",
    "    pplt.legend()\n",
    "    pplt.show()\n",
    "\n",
    "    # At what age field value is stabilizes, but we should  \n",
    "    eps = 0.1\n",
    "    ind_dev_zero = [i for i in range(len(tang)) if abs(tang[i]) < eps and i > ind_dev_posit][0]\n",
    "    print(f\"Age at which {field} is stabilizes: {ind_dev_zero}\")\n",
    "    \n",
    "plot_field_and_deviation('height')"
   ]
  },
  {
   "cell_type": "code",
   "execution_count": 18,
   "id": "acfcb174",
   "metadata": {},
   "outputs": [
    {
     "data": {
      "image/png": "[encoded data removed]",
      "text/plain": [
       "<Figure size 432x288 with 1 Axes>"
      ]
     },
     "metadata": {
      "needs_background": "light"
     },
     "output_type": "display_data"
    },
    {
     "name": "stdout",
     "output_type": "stream",
     "text": [
      "Age at which weight is stabilizes: 27\n"
     ]
    }
   ],
   "source": [
    "plot_field_and_deviation('weight')"
   ]
  },
  {
   "cell_type": "markdown",
   "id": "68a571eb",
   "metadata": {},
   "source": [
    "##### Height and weight are changing for people whose age is between 10 and 25. Let's add column with dummy variable which will be equal to 1 if age more than 10 and less than 25. For all others we will weight and height we will change to zero."
   ]
  },
  {
   "cell_type": "code",
   "execution_count": 19,
   "id": "bc06fcd2",
   "metadata": {},
   "outputs": [],
   "source": [
    "train_df[\"teenager\"] = train_df[\"AGE\"].map(lambda x: 1 if x >= 10 and x <= 25 else 0)\n",
    "\n",
    "train_df.loc[(train_df['AGE'] < 10), ['weight', 'height']] = 0\n",
    "train_df.loc[(train_df['AGE'] > 25), ['weight', 'height']] = 0"
   ]
  },
  {
   "cell_type": "markdown",
   "id": "d0663c45",
   "metadata": {},
   "source": [
    "##### There are nan values for teenagers. Let's feel them in."
   ]
  },
  {
   "cell_type": "code",
   "execution_count": 20,
   "id": "dace2a5d",
   "metadata": {},
   "outputs": [],
   "source": [
    "teenagers = train_df[train_df['teenager'] == 1]\n",
    "group_by = teenagers.groupby([\"AGE\", \"gender\"])\n",
    "\n",
    "fill_fields = ['height', 'weight']\n",
    "train_df.loc[teenagers.index, fill_fields] = group_by[fill_fields].transform(lambda x: x.fillna(x.mean()))"
   ]
  },
  {
   "cell_type": "code",
   "execution_count": 21,
   "id": "e64b9a5a",
   "metadata": {},
   "outputs": [
    {
     "data": {
      "text/plain": [
       "array([nan])"
      ]
     },
     "execution_count": 21,
     "metadata": {},
     "output_type": "execute_result"
    }
   ],
   "source": [
    "test_df = df[df.user_id.isin(test_users.id)]\n",
    "test_df.reset_index(drop=True, inplace=True)\n",
    "test_df['AGE'].unique()"
   ]
  },
  {
   "cell_type": "markdown",
   "id": "a172f1b9",
   "metadata": {},
   "source": [
    "##### Let's implement an algorithm described in article \"A study of age gaps between online friends\".\n",
    "https://ink.library.smu.edu.sg/sis_research/2416/\n",
    "<br>LIAO, Lizi; JIANG, Jing; LIM, Ee Peng; and HUANG, Heyan. A study of age gaps between online friends. HT'14: Proceedings of the 25th ACM Conference on Hypertext and Social Media: September 1-4,\n",
    "2014, Santiago, Chile. 98-106. Research Collection School Of Information Systems. "
   ]
  },
  {
   "cell_type": "markdown",
   "id": "65a94db0",
   "metadata": {},
   "source": [
    "First let's divide users on ...."
   ]
  },
  {
   "cell_type": "code",
   "execution_count": 23,
   "id": "f5f81982",
   "metadata": {},
   "outputs": [],
   "source": [
    "test_df = test_df[[\"user_id\", \"AGE\"]]\n",
    "train_df = train_df[[\"user_id\", \"AGE\"]]\n",
    "df = df[[\"user_id\", \"AGE\"]]"
   ]
  },
  {
   "cell_type": "code",
   "execution_count": null,
   "id": "17ca8659",
   "metadata": {},
   "outputs": [],
   "source": [
    "def get_users_friends_graph(user_id) -> list:\n",
    "    \"\"\"Get user's friends and friends' friends\n",
    "    :param user_id: whose friends to look for\n",
    "    \"\"\"\n",
    "        \n",
    "    users = [user_id]\n",
    "    add_users = [user_id]\n",
    "    \n",
    "    for _ in range(2):\n",
    "        add_users = Parallel(n_jobs=10)(delayed(N)(add_user, exclude_ids=users) for add_user in add_users)\n",
    "        add_users = set(sum(add_users, []))\n",
    "        \n",
    "        if len(add_users) > 1000:\n",
    "            add_users = random.sample(add_users, 500)\n",
    "        users = list(users) + list(add_users)\n",
    "    return users\n",
    "\n",
    "\n",
    "def N(user_id, exclude_ids=[], include_ids=[]):\n",
    "    \"\"\"Get users unlabeled friends\n",
    "    :param user_id: user_id\n",
    "    :param exclude_ids: users who are already labeled\n",
    "    :return: list of friends ids that are not labeled\n",
    "    \"\"\"\n",
    "    global relation, neighbors\n",
    "    \n",
    "    if user_id in neighbors:\n",
    "        users_friends = neighbors.get(user_id)\n",
    "        \n",
    "    else:\n",
    "        users_friends = list(relation[relation[\"user_id\"] == user_id].friend_id) \n",
    "        users_friends += list(relation[relation[\"friend_id\"] == user_id].user_id)\n",
    "        \n",
    "        # Save all users friends\n",
    "        neighbors[user_id] = users_friends\n",
    "        \n",
    "    if len(exclude_ids) != 0:\n",
    "        users_friends = [friend for friend in users_friends if friend not in exclude_ids]\n",
    "    \n",
    "    if len(include_ids) != 0:\n",
    "        users_friends = [friend for friend in users_friends if friend in include_ids]\n",
    "    \n",
    "    return users_friends\n",
    "\n",
    "# Keep information about user neighbors\n",
    "neighbors = {}\n",
    "test_id = test_users.id[0]\n",
    "users_friends = get_users_friends_graph(test_id)"
   ]
  },
  {
   "cell_type": "markdown",
   "id": "511f28ce",
   "metadata": {},
   "source": [
    "In order to divide on cliques we need to get only first few friends. Plus if there is a unlabeled person above them we can label him to. But if we could not label person on first iteration he is likely to be near edge."
   ]
  },
  {
   "cell_type": "code",
   "execution_count": 25,
   "id": "fe864896",
   "metadata": {},
   "outputs": [],
   "source": [
    "def bronKerbosch(R=[], P=[], X=[], include_ids=[]): \n",
    "    \"\"\"Bron–Kerbosch algorithm with pivoting\n",
    "    :return: list of cliques\n",
    "    \"\"\"\n",
    "    if not P and not X:\n",
    "        return [R]\n",
    "        \n",
    "    u = (P + X)[0]\n",
    "    vertices = [vert for vert in P if vert not in N(u, include_ids=include_ids)]\n",
    "    \n",
    "    result = []\n",
    "    for v in vertices:\n",
    "        N_v = N(v, include_ids=include_ids)\n",
    "        \n",
    "        P_new = list(set(P) & set(N_v))\n",
    "        X_new = list(set(X) & set(N_v))\n",
    "        \n",
    "        output = bronKerbosch(R + [v], P_new, X_new, include_ids)\n",
    "        result.extend(output)\n",
    "        \n",
    "        P = [vert for vert in P if vert is not v]\n",
    "        X = X + [v]\n",
    "    return result\n",
    "        \n",
    "\n",
    "def count_probabilities(user_ids: list):\n",
    "    \"\"\"Divide graph on cliques and set probabilities for each edge\n",
    "    :param user_ids: users that denote vertices\n",
    "    :return: probab_values probabilities for each edge in friendship graph\n",
    "    \"\"\"\n",
    "    \n",
    "    probab_values = {i: {} for i in user_ids}\n",
    "    \n",
    "    # Divide graph on cliques\n",
    "    for clique in bronKerbosch(P=user_ids, include_ids=user_ids):\n",
    "        probab_values = update_edges(clique, probab_values)\n",
    "        \n",
    "    return probab_values\n",
    "\n",
    "\n",
    "def update_edges(clique, probab_values):\n",
    "    \"\"\"update probability on edge if needed (select with max prob)\n",
    "    :param clique: list of ids that make one clique\n",
    "    :param probab_values: probabilities for each edge\n",
    "    :return: probab_values probabilities for each edge in friendship graph\n",
    "    \"\"\"\n",
    "    clique_size = len(clique) \n",
    "    pairs = list(itertools.combinations(clique, 2))\n",
    "\n",
    "    for i, j in pairs:\n",
    "        edge_prob = probab_values.get(i, {}).get(j, 0)\n",
    "        \n",
    "        # compare clique_size with other cliques that contains i and j vertecies\n",
    "        if clique_size <= edge_prob:\n",
    "            continue\n",
    "\n",
    "        probab_values[i][j] = clique_size\n",
    "        probab_values[j][i] = clique_size\n",
    "    return probab_values\n",
    "\n",
    "\n",
    "def fill_age_probabilities(user_id, U, L, A, probab_values):\n",
    "    \"\"\"In order to propogate age labels fill age probobilities for each unlabeled vertex\n",
    "    :param user_id: user whose label is not known\n",
    "    :param U: users whose labels are not known\n",
    "    :param L: users whose labels are known\n",
    "    :param A: age probobilities for each vertex\n",
    "    :param probab_values: probabilities for each edge\n",
    "    :return: age probobilities for each vertex\n",
    "    \"\"\"\n",
    "    \n",
    "    # Get unlabeled friends ids\n",
    "    user_neib = N(user_id, include_ids=list(U.user_id))\n",
    "    \n",
    "    # Count probability denominator\n",
    "    prob_user = probab_values.get(user_id, {})\n",
    "    \n",
    "    # Get sum of labeled user's friend probobilities\n",
    "    prob_divide = sum(prob_user.values())\n",
    "\n",
    "    user_age = L.loc[L.user_id == user_id, \"AGE\"].iloc[0]\n",
    "    \n",
    "    if np.isnan(user_age):\n",
    "        return A\n",
    "\n",
    "    for neib_id in user_neib:\n",
    "        prob = prob_user.get(neib_id)/prob_divide\n",
    "        A[neib_id].append((user_age, prob))\n",
    "    return A\n",
    "\n",
    "\n",
    "def MCAP_alg(L, test_df):\n",
    "    \"\"\"Apply MCAP algorithm\n",
    "    :param L: dataframe of users info - users whose age we know\n",
    "    :param test_df: one user whose age need to be found\n",
    "    :return: dataframe with labeled data\n",
    "    \"\"\"\n",
    "    result = pd.DataFrame(columns=L.columns)\n",
    "    \n",
    "    test_id = test_df.user_id[0]\n",
    "\n",
    "    #We will collect unnormolized probabilities and save them to file\n",
    "    file_name = f\"probabilities/{test_id}.pkl\"\n",
    "    user_ids = list(L.user_id) + list(test_df.user_id)\n",
    "\n",
    "    if os.path.isfile(file_name):\n",
    "        with open(file_name, 'rb') as handle:\n",
    "            probab_values = pickle.load(handle)\n",
    "\n",
    "    else:\n",
    "        probab_values = count_probabilities(user_ids)\n",
    "        with open(file_name, 'wb') as handle:\n",
    "            pickle.dump(probab_values, handle, protocol=pickle.HIGHEST_PROTOCOL)\n",
    "            \n",
    "    A = {i: [] for i in user_ids}\n",
    "\n",
    "    # To each neighbour in L add age and probability to A\n",
    "    friends_to_fill_prob = N(test_id, include_ids=list(L.user_id))\n",
    "\n",
    "    for user_id in friends_to_fill_prob:\n",
    "        A = fill_age_probabilities(user_id, test_df, L, A, probab_values)\n",
    "\n",
    "    for user_id in test_df.user_id:\n",
    "        if len(A[user_id]) == 0:\n",
    "            continue\n",
    "\n",
    "        user_info = test_df[test_df.user_id == user_id]\n",
    "        # Label users with most probable age\n",
    "        user_info['AGE'] = max(A[user_id], key=lambda item:item[1])[0]\n",
    "\n",
    "        test_df.drop(test_df[test_df.user_id == user_id].index, inplace=True)\n",
    "        result = result.append(user_info, ignore_index=True)\n",
    "        \n",
    "    return result"
   ]
  },
  {
   "cell_type": "markdown",
   "id": "e464bf1a",
   "metadata": {},
   "source": [
    "##### Even if friend is unlabeled we will at least know that he is there and it will influence learning (while normalizing weights - prob_divide)"
   ]
  },
  {
   "cell_type": "code",
   "execution_count": 23,
   "id": "835b14b8",
   "metadata": {},
   "outputs": [
    {
     "name": "stderr",
     "output_type": "stream",
     "text": [
      "C:\\Users\\elbor\\AppData\\Local\\Temp/ipykernel_900/1844119733.py:129: SettingWithCopyWarning: \n",
      "A value is trying to be set on a copy of a slice from a DataFrame.\n",
      "Try using .loc[row_indexer,col_indexer] = value instead\n",
      "\n",
      "See the caveats in the documentation: https://pandas.pydata.org/pandas-docs/stable/user_guide/indexing.html#returning-a-view-versus-a-copy\n",
      "  user_info['AGE'] = max(A[user_id], key=lambda item:item[1])[0]\n"
     ]
    },
    {
     "data": {
      "text/html": [
       "<div>\n",
       "<style scoped>\n",
       "    .dataframe tbody tr th:only-of-type {\n",
       "        vertical-align: middle;\n",
       "    }\n",
       "\n",
       "    .dataframe tbody tr th {\n",
       "        vertical-align: top;\n",
       "    }\n",
       "\n",
       "    .dataframe thead th {\n",
       "        text-align: right;\n",
       "    }\n",
       "</style>\n",
       "<table border=\"1\" class=\"dataframe\">\n",
       "  <thead>\n",
       "    <tr style=\"text-align: right;\">\n",
       "      <th></th>\n",
       "      <th>user_id</th>\n",
       "      <th>public</th>\n",
       "      <th>gender</th>\n",
       "      <th>AGE</th>\n",
       "      <th>height</th>\n",
       "      <th>weight</th>\n",
       "    </tr>\n",
       "  </thead>\n",
       "  <tbody>\n",
       "    <tr>\n",
       "      <th>0</th>\n",
       "      <td>123937176</td>\n",
       "      <td>0</td>\n",
       "      <td>1.00000</td>\n",
       "      <td>15.00000</td>\n",
       "      <td>165.00000</td>\n",
       "      <td>51.00000</td>\n",
       "    </tr>\n",
       "    <tr>\n",
       "      <th>1</th>\n",
       "      <td>183582290</td>\n",
       "      <td>0</td>\n",
       "      <td>1.00000</td>\n",
       "      <td>15.00000</td>\n",
       "      <td>184.00000</td>\n",
       "      <td>62.00000</td>\n",
       "    </tr>\n",
       "    <tr>\n",
       "      <th>2</th>\n",
       "      <td>503723200</td>\n",
       "      <td>1</td>\n",
       "      <td>1.00000</td>\n",
       "      <td>15.00000</td>\n",
       "      <td>NaN</td>\n",
       "      <td>NaN</td>\n",
       "    </tr>\n",
       "    <tr>\n",
       "      <th>3</th>\n",
       "      <td>263435000</td>\n",
       "      <td>0</td>\n",
       "      <td>0.00000</td>\n",
       "      <td>15.00000</td>\n",
       "      <td>165.00000</td>\n",
       "      <td>NaN</td>\n",
       "    </tr>\n",
       "    <tr>\n",
       "      <th>4</th>\n",
       "      <td>354751790</td>\n",
       "      <td>1</td>\n",
       "      <td>1.00000</td>\n",
       "      <td>15.00000</td>\n",
       "      <td>NaN</td>\n",
       "      <td>NaN</td>\n",
       "    </tr>\n",
       "    <tr>\n",
       "      <th>5</th>\n",
       "      <td>199007407</td>\n",
       "      <td>0</td>\n",
       "      <td>1.00000</td>\n",
       "      <td>15.00000</td>\n",
       "      <td>NaN</td>\n",
       "      <td>NaN</td>\n",
       "    </tr>\n",
       "    <tr>\n",
       "      <th>6</th>\n",
       "      <td>543696290</td>\n",
       "      <td>1</td>\n",
       "      <td>0.00000</td>\n",
       "      <td>15.00000</td>\n",
       "      <td>150.00000</td>\n",
       "      <td>40.00000</td>\n",
       "    </tr>\n",
       "  </tbody>\n",
       "</table>\n",
       "</div>"
      ],
      "text/plain": [
       "     user_id public  gender      AGE    height   weight\n",
       "0  123937176      0 1.00000 15.00000 165.00000 51.00000\n",
       "1  183582290      0 1.00000 15.00000 184.00000 62.00000\n",
       "2  503723200      1 1.00000 15.00000       NaN      NaN\n",
       "3  263435000      0 0.00000 15.00000 165.00000      NaN\n",
       "4  354751790      1 1.00000 15.00000       NaN      NaN\n",
       "5  199007407      0 1.00000 15.00000       NaN      NaN\n",
       "6  543696290      1 0.00000 15.00000 150.00000 40.00000"
      ]
     },
     "execution_count": 23,
     "metadata": {},
     "output_type": "execute_result"
    }
   ],
   "source": [
    "friends_df = df[df.user_id.isin(users_friends)]\n",
    "test_user_df = test_df[test_df.user_id.isin(users_friends)].reset_index(drop=True)\n",
    "test_user_info = MCAP_alg(friends_df, test_user_df)\n",
    "\n",
    "test_user_info"
   ]
  },
  {
   "cell_type": "code",
   "execution_count": 25,
   "id": "72ea6352",
   "metadata": {},
   "outputs": [],
   "source": [
    "result = pd.DataFrame(columns=df.columns)\n",
    "result = result.append(test_user_info, ignore_index=True)\n",
    "result.to_csv(\"result.csv\", index=False)"
   ]
  },
  {
   "cell_type": "code",
   "execution_count": null,
   "id": "93ad663d",
   "metadata": {},
   "outputs": [],
   "source": [
    "def apply_alg(test_id, test_df, df):\n",
    "    result = pd.read_csv(\"result.csv\", header=0)\n",
    "    if test_id in list(result.user_id):\n",
    "        print('Already calculated')\n",
    "        return\n",
    "    \n",
    "    users_friends = get_users_friends_graph(test_id)\n",
    "    \n",
    "    friends_df = df[df.user_id.isin(users_friends)]\n",
    "    \n",
    "    test_user_df = test_df[test_df.user_id == test_id].reset_index(drop=True)\n",
    "    \n",
    "    test_user_info = MCAP_alg(friends_df, test_user_df)\n",
    "    pd.DataFrame(test_user_info).to_csv(\"result.csv\", mode='a', header=False, index=False)\n",
    "    print('Calculated')\n",
    "\n",
    "result = pd.read_csv(\"result.csv\", header=0)\n",
    "check = set(test_df.user_id) - set(result.user_id)\n",
    "result_2 = Parallel(n_jobs=10)(delayed(apply_alg)(test_id, test_df, df) for test_id in check)"
   ]
  },
  {
   "cell_type": "code",
   "execution_count": null,
   "id": "fdfbc30c",
   "metadata": {},
   "outputs": [],
   "source": [
    "result = pd.read_csv(\"result.csv\", header=0)\n",
    "result.drop_duplicates(subset='user_id', keep='last', inplace=True)\n",
    "result.to_csv(\"result.csv\", index=False)"
   ]
  },
  {
   "cell_type": "code",
   "execution_count": null,
   "id": "def8d14e",
   "metadata": {},
   "outputs": [],
   "source": []
  }
 ],
 "metadata": {
  "kernelspec": {
   "display_name": "Python 3 (ipykernel)",
   "language": "python",
   "name": "python3"
  },
  "language_info": {
   "codemirror_mode": {
    "name": "ipython",
    "version": 3
   },
   "file_extension": ".py",
   "mimetype": "text/x-python",
   "name": "python",
   "nbconvert_exporter": "python",
   "pygments_lexer": "ipython3",
   "version": "3.8.12"
  }
 },
 "nbformat": 4,
 "nbformat_minor": 5
}
